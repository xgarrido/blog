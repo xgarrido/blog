{
 "cells": [
  {
   "cell_type": "markdown",
   "metadata": {},
   "source": [
    "# Plotly Library within fastpages\n",
    "> How-to to make plotly working within fastpages blog.\n",
    "\n",
    "- badges: false\n",
    "- use_plotly: true\n",
    "- categories: [jupyter, plotly]"
   ]
  },
  {
   "cell_type": "markdown",
   "metadata": {},
   "source": [
    "There have been attempts to make [Plotly Python](https://plotly.com/python) working with [fastpages](https://fastpages.fast.ai/) (see for instance, [this](https://binnisb.github.io/blog/datascience/2020/04/02/Plotly-in-lab.html) blog post or this [discussion](https://forums.fast.ai/t/fastpages-plotly-plot-doesnt-load-js-error-in-browser/67459/9)). I have not been able to make `Plotly` working this way. Moreover I did'nt want to change my `jupyter` notebooks to take in mind that it will be latter converted by `fastpages`: basically, I want my `jupyter` to be rendered by `fastpages` without hacking.\n",
    "\n",
    "By looking how the `Plotly` charts were rendered by the `html` pages of https://plotly.com/python website, I finally found a way to keep the code unchanged by just adding the minimal `javascript` configuration in the Jekyll part. The solution is to add several lines into the `_includes/custom-head.html` [file](https://github.com/fastai/fastpages/blob/master/_includes/custom-head.html) in such a way the minimal set of `javascript` plugins is loaded for `Plotly`. Here are the lines \n",
    "\n",
    "{% raw %}\n",
    "```html\n",
    "{% if page.use_plotly %}\n",
    "<script type=\"text/javascript\" src=\"https://cdnjs.cloudflare.com/ajax/libs/require.js/2.3.2/require.js\"></script>\n",
    "<script type=\"text/javascript\">\n",
    "  if (typeof require !== 'undefined') {\n",
    "      require.undef(\"plotly\");\n",
    "      requirejs.config({\n",
    "          paths: {\n",
    "              'plotly': ['https://cdn.plot.ly/plotly-latest.min']\n",
    "          }\n",
    "      });\n",
    "      require(['plotly'], function(Plotly) {\n",
    "          window._Plotly = Plotly;\n",
    "      });\n",
    "  }\n",
    "</script>\n",
    "{% endif %}\n",
    "```\n",
    "{% endraw %}\n",
    "\n",
    "The block itself is wrapped and is only loaded if you add `use_plotly: true` on top of your notebook (see https://github.com/fastai/fastpages#customizing-blog-posts-with-front-matter). "
   ]
  },
  {
   "cell_type": "markdown",
   "metadata": {},
   "source": [
    "---\n",
    "Let's play with `Plotly` and the *gapminder* [data set](https://github.com/jennybc/gapminder)"
   ]
  },
  {
   "cell_type": "code",
   "execution_count": null,
   "metadata": {},
   "outputs": [],
   "source": [
    "# hide\n",
    "import plotly.io as pio\n",
    "\n",
    "pio.templates.default = \"seaborn\""
   ]
  },
  {
   "cell_type": "code",
   "execution_count": null,
   "metadata": {},
   "outputs": [],
   "source": [
    "import plotly.express as px\n",
    "\n",
    "gapminder = px.data.gapminder()\n",
    "gapminder.head()"
   ]
  },
  {
   "cell_type": "markdown",
   "metadata": {},
   "source": [
    "We can for example make a *violin* plot showing how the life expectancy change from one continent to another."
   ]
  },
  {
   "cell_type": "code",
   "execution_count": null,
   "metadata": {},
   "outputs": [],
   "source": [
    "fig = px.violin(\n",
    "    gapminder,\n",
    "    x=\"continent\",\n",
    "    y=\"lifeExp\",\n",
    "    color=\"continent\",\n",
    "    labels={\"lifeExp\": \"life expectancy at birth\"},\n",
    ")\n",
    "fig.update_layout(showlegend=False)"
   ]
  },
  {
   "cell_type": "markdown",
   "metadata": {},
   "source": [
    "We can even use the animation layer of `Plotly`"
   ]
  },
  {
   "cell_type": "code",
   "execution_count": null,
   "metadata": {},
   "outputs": [],
   "source": [
    "px.scatter(\n",
    "    gapminder,\n",
    "    x=\"gdpPercap\",\n",
    "    y=\"lifeExp\",\n",
    "    animation_frame=\"year\",\n",
    "    animation_group=\"country\",\n",
    "    size=\"pop\",\n",
    "    color=\"continent\",\n",
    "    hover_name=\"country\",\n",
    "    log_x=True,\n",
    "    size_max=55,\n",
    "    range_x=[100, 100000],\n",
    "    range_y=[25, 90],\n",
    "    labels={\n",
    "        \"lifeExp\": \"life expectancy at birth\",\n",
    "        \"gdpPercap\": \"per-capita gross domestic product in dollars\",\n",
    "    },\n",
    ")"
   ]
  },
  {
   "cell_type": "markdown",
   "metadata": {},
   "source": [
    "Lastly, we can produce nice geographical charts"
   ]
  },
  {
   "cell_type": "code",
   "execution_count": null,
   "metadata": {},
   "outputs": [],
   "source": [
    "import pandas as pd\n",
    "import plotly.graph_objects as go\n",
    "\n",
    "df = pd.read_csv(\"https://raw.githubusercontent.com/plotly/datasets/master/2014_us_cities.csv\")\n",
    "df[\"text\"] = df[\"name\"] + \"<br>Population \" + (df[\"pop\"] / 1e6).astype(str) + \" million\"\n",
    "\n",
    "fig = go.Figure()\n",
    "\n",
    "limits = [(0, 2), (3, 10), (11, 20), (21, 50), (50, len(df))]\n",
    "for i, limit in enumerate(limits):\n",
    "    df_sub = df[limit[0] : limit[1]]\n",
    "    fig.add_trace(\n",
    "        go.Scattergeo(\n",
    "            locationmode=\"USA-states\",\n",
    "            lon=df_sub[\"lon\"],\n",
    "            lat=df_sub[\"lat\"],\n",
    "            text=df_sub[\"text\"],\n",
    "            marker=dict(\n",
    "                size=df_sub[\"pop\"] / 5000,\n",
    "                line_color=\"rgb(40,40,40)\",\n",
    "                line_width=0.5,\n",
    "                sizemode=\"area\",\n",
    "            ),\n",
    "            name=\"\",\n",
    "        )\n",
    "    )\n",
    "\n",
    "fig.update_layout(\n",
    "    title_text=\"2014 US city populations\",\n",
    "    showlegend=False,\n",
    "    geo=dict(scope=\"usa\", landcolor=\"rgb(217, 217, 217)\"),\n",
    ")"
   ]
  }
 ],
 "metadata": {
  "kernelspec": {
   "display_name": "Python 3",
   "language": "python",
   "name": "python3"
  },
  "language_info": {
   "codemirror_mode": {
    "name": "ipython",
    "version": 3
   },
   "file_extension": ".py",
   "mimetype": "text/x-python",
   "name": "python",
   "nbconvert_exporter": "python",
   "pygments_lexer": "ipython3",
   "version": "3.9.1"
  },
  "widgets": {
   "application/vnd.jupyter.widget-state+json": {
    "state": {},
    "version_major": 2,
    "version_minor": 0
   }
  }
 },
 "nbformat": 4,
 "nbformat_minor": 4
}
